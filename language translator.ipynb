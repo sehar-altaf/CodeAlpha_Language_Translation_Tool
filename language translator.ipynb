{
 "cells": [
  {
   "cell_type": "code",
   "execution_count": 1,
   "id": "ff8e00e3-8c92-4746-a743-a425b10b424c",
   "metadata": {},
   "outputs": [
    {
     "name": "stdout",
     "output_type": "stream",
     "text": [
      "Defaulting to user installation because normal site-packages is not writeable\n",
      "Requirement already satisfied: googletrans==4.0.0-rc1 in c:\\users\\sehar\\appdata\\roaming\\python\\python312\\site-packages (4.0.0rc1)\n",
      "Requirement already satisfied: httpx==0.13.3 in c:\\users\\sehar\\appdata\\roaming\\python\\python312\\site-packages (from googletrans==4.0.0-rc1) (0.13.3)\n",
      "Requirement already satisfied: certifi in c:\\programdata\\anaconda3\\lib\\site-packages (from httpx==0.13.3->googletrans==4.0.0-rc1) (2024.6.2)\n",
      "Requirement already satisfied: hstspreload in c:\\users\\sehar\\appdata\\roaming\\python\\python312\\site-packages (from httpx==0.13.3->googletrans==4.0.0-rc1) (2024.8.1)\n",
      "Requirement already satisfied: sniffio in c:\\programdata\\anaconda3\\lib\\site-packages (from httpx==0.13.3->googletrans==4.0.0-rc1) (1.3.0)\n",
      "Requirement already satisfied: chardet==3.* in c:\\users\\sehar\\appdata\\roaming\\python\\python312\\site-packages (from httpx==0.13.3->googletrans==4.0.0-rc1) (3.0.4)\n",
      "Requirement already satisfied: idna==2.* in c:\\users\\sehar\\appdata\\roaming\\python\\python312\\site-packages (from httpx==0.13.3->googletrans==4.0.0-rc1) (2.10)\n",
      "Requirement already satisfied: rfc3986<2,>=1.3 in c:\\users\\sehar\\appdata\\roaming\\python\\python312\\site-packages (from httpx==0.13.3->googletrans==4.0.0-rc1) (1.5.0)\n",
      "Requirement already satisfied: httpcore==0.9.* in c:\\users\\sehar\\appdata\\roaming\\python\\python312\\site-packages (from httpx==0.13.3->googletrans==4.0.0-rc1) (0.9.1)\n",
      "Requirement already satisfied: h11<0.10,>=0.8 in c:\\users\\sehar\\appdata\\roaming\\python\\python312\\site-packages (from httpcore==0.9.*->httpx==0.13.3->googletrans==4.0.0-rc1) (0.9.0)\n",
      "Requirement already satisfied: h2==3.* in c:\\users\\sehar\\appdata\\roaming\\python\\python312\\site-packages (from httpcore==0.9.*->httpx==0.13.3->googletrans==4.0.0-rc1) (3.2.0)\n",
      "Requirement already satisfied: hyperframe<6,>=5.2.0 in c:\\users\\sehar\\appdata\\roaming\\python\\python312\\site-packages (from h2==3.*->httpcore==0.9.*->httpx==0.13.3->googletrans==4.0.0-rc1) (5.2.0)\n",
      "Requirement already satisfied: hpack<4,>=3.0 in c:\\users\\sehar\\appdata\\roaming\\python\\python312\\site-packages (from h2==3.*->httpcore==0.9.*->httpx==0.13.3->googletrans==4.0.0-rc1) (3.0.0)\n"
     ]
    }
   ],
   "source": [
    "!pip install googletrans==4.0.0-rc1\n",
    "\n",
    "from tkinter import *\n",
    "from tkinter import ttk\n",
    "from googletrans import Translator, LANGUAGES "
   ]
  },
  {
   "cell_type": "code",
   "execution_count": 2,
   "id": "60e7d084-873b-4daf-bb3e-b6085c860e99",
   "metadata": {},
   "outputs": [],
   "source": [
    "root = Tk()\n",
    "root.geometry('1100x320')\n",
    "root.resizable(0,0)\n",
    "#root.iconbitmap('logo simpli.ico')\n",
    "root['bg'] = 'peach puff'\n",
    "\n",
    "root.title(\"Language Translator\")\n",
    "\n",
    "Label(root, text = 'Language translator', font = \"Arial 20 bold\").pack()\n",
    "\n"
   ]
  },
  {
   "cell_type": "code",
   "execution_count": 3,
   "id": "4df6cb29-c29c-4996-a7fc-0c8d1e2c928b",
   "metadata": {},
   "outputs": [
    {
     "data": {
      "text/plain": [
       "''"
      ]
     },
     "execution_count": 3,
     "metadata": {},
     "output_type": "execute_result"
    }
   ],
   "source": [
    "Label(root, text = 'Enter Text', font = 'arial 13 bold', bg ='lavender').place(x=165, y=90)\n",
    "\n",
    "Input_text= Entry(root, width=60)\n",
    "Input_text.place(x=30, y=130)\n",
    "Input_text.get()\n"
   ]
  },
  {
   "cell_type": "code",
   "execution_count": 4,
   "id": "96bdebbe-c914-4fab-9be9-ea2972d9f362",
   "metadata": {},
   "outputs": [],
   "source": [
    "Label(root, text = 'Output',font = 'arial 13 bold', bg='white smoke').place(x= 780 ,y=90)\n",
    "Output_text = Text(root , font= 'arial 10' , height = 5, wrap = WORD, padx= 5, pady= 5,width = 50)\n",
    "Output_text.place(x= 600, y = 130)\n",
    "language = list(LANGUAGES.values())\n",
    "\n",
    "dest_lang = ttk.Combobox(root, values= language , width = 22)\n",
    "dest_lang.place(x=130, y=180)\n",
    "dest_lang.set('choose language')\n",
    "\n"
   ]
  },
  {
   "cell_type": "code",
   "execution_count": null,
   "id": "330519cc-d1b7-44d6-afbb-33e7ea49d768",
   "metadata": {},
   "outputs": [],
   "source": [
    "def Translate():\n",
    "    translator = Translator()\n",
    "    translated= translator.translate(text=Input_text.get(), dest = dest_lang.get())\n",
    "    Output_text.delete(1.0, END)\n",
    "    Output_text.insert(END, translated.text)\n",
    "trans_btn= Button(root, text='Translate', font= 'arial 12 bold', pady = 8, command = Translate, bg='sandy brown', activebackground='green')    \n",
    "trans_btn.place(x= 445, y=180)\n",
    "\n",
    "root.mainloop()"
   ]
  }
 ],
 "metadata": {
  "kernelspec": {
   "display_name": "Python 3 (ipykernel)",
   "language": "python",
   "name": "python3"
  },
  "language_info": {
   "codemirror_mode": {
    "name": "ipython",
    "version": 3
   },
   "file_extension": ".py",
   "mimetype": "text/x-python",
   "name": "python",
   "nbconvert_exporter": "python",
   "pygments_lexer": "ipython3",
   "version": "3.12.4"
  }
 },
 "nbformat": 4,
 "nbformat_minor": 5
}
